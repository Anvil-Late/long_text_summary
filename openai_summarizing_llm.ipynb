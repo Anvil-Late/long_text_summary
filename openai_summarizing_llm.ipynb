{
 "cells": [
  {
   "cell_type": "code",
   "execution_count": 4,
   "metadata": {},
   "outputs": [],
   "source": [
    "from datetime import datetime\n",
    "import pandas as pd\n",
    "import numpy as np\n",
    "import json\n",
    "import os\n",
    "import matplotlib.pyplot as plt\n",
    "from scipy.spatial.distance import cosine\n",
    "import networkx as nx\n",
    "from networkx.algorithms import community\n",
    "\n",
    "from langchain import OpenAI\n",
    "from langchain.prompts import PromptTemplate\n",
    "from langchain.chains.llm import LLMChain\n",
    "from langchain.embeddings import OpenAIEmbeddings\n",
    "from langchain.docstore.document import Document\n",
    "from langchain.chains.summarize import load_summarize_chain\n",
    "\n",
    "with open('/Volumes/credentials/openai/api_key.txt', 'r') as f:\n",
    "    openai_key = f.read()\n",
    "os.environ[\"OPENAI_API_KEY\"] = openai_key"
   ]
  },
  {
   "cell_type": "code",
   "execution_count": 5,
   "metadata": {},
   "outputs": [],
   "source": [
    "# Load the txt file\n",
    "txt_path = 'hp1script.txt'\n",
    "with open(txt_path, 'r') as f:\n",
    "    txt = f.read()"
   ]
  },
  {
   "cell_type": "code",
   "execution_count": 6,
   "metadata": {},
   "outputs": [],
   "source": [
    "# Get segments from txt by splitting on .\n",
    "segments =  txt.split('.')\n",
    "# Put the . back in\n",
    "segments = [segment + '.' for segment in segments]\n",
    "# Further split by comma\n",
    "segments = [segment.split(',') for segment in segments]\n",
    "# Flatten\n",
    "segments = [item for sublist in segments for item in sublist]"
   ]
  },
  {
   "cell_type": "code",
   "execution_count": 7,
   "metadata": {},
   "outputs": [],
   "source": [
    "def create_sentences(segments, MIN_WORDS, MAX_WORDS):\n",
    "\n",
    "    # Combine the non-sentences together\n",
    "    sentences = []\n",
    "\n",
    "    is_new_sentence = True\n",
    "    sentence_length = 0\n",
    "    sentence_num = 0\n",
    "    sentence_segments = []\n",
    "\n",
    "    for i in range(len(segments)):\n",
    "        if is_new_sentence == True:\n",
    "            is_new_sentence = False\n",
    "        # Append the segment\n",
    "        sentence_segments.append(segments[i])\n",
    "        segment_words = segments[i].split(' ')\n",
    "        sentence_length += len(segment_words)\n",
    "\n",
    "    # If exceed MAX_WORDS, then stop at the end of the segment\n",
    "    # Only consider it a sentence if the length is at least MIN_WORDS\n",
    "    if (sentence_length >= MIN_WORDS and segments[i][-1] == '.') or sentence_length >= MAX_WORDS:\n",
    "        sentence = ' '.join(sentence_segments)\n",
    "        sentences.append({\n",
    "        'sentence_num': sentence_num,\n",
    "        'text': sentence,\n",
    "        'sentence_length': sentence_length\n",
    "      })\n",
    "    # Reset\n",
    "    is_new_sentence = True\n",
    "    sentence_length = 0\n",
    "    sentence_segments = []\n",
    "    sentence_num += 1\n",
    "\n",
    "    return sentences\n",
    "\n",
    "def create_chunks(sentences, CHUNK_LENGTH, STRIDE):\n",
    "\n",
    "    sentences_df = pd.DataFrame(sentences)\n",
    "\n",
    "    chunks = []\n",
    "    for i in range(0, len(sentences_df), (CHUNK_LENGTH - STRIDE)):\n",
    "        chunk = sentences_df.iloc[i:i+CHUNK_LENGTH]\n",
    "        chunk_text = ' '.join(chunk['text'].tolist())\n",
    "\n",
    "        chunks.append({\n",
    "          'start_sentence_num': chunk['sentence_num'].iloc[0],\n",
    "          'end_sentence_num': chunk['sentence_num'].iloc[-1],\n",
    "          'text': chunk_text,\n",
    "          'num_words': len(chunk_text.split(' '))\n",
    "        })\n",
    "    \n",
    "    chunks_df = pd.DataFrame(chunks)\n",
    "    return chunks_df.to_dict('records')\n",
    "\n",
    "def parse_title_summary_results(results):\n",
    "    out = []\n",
    "    for e in results:\n",
    "        e = e.replace('\\n', '')\n",
    "        if '|' in e:\n",
    "            processed = {'title': e.split('|')[0],\n",
    "                        'summary': e.split('|')[1][1:]\n",
    "                        }\n",
    "        elif ':' in e:\n",
    "            processed = {'title': e.split(':')[0],\n",
    "                        'summary': e.split(':')[1][1:]\n",
    "                        }\n",
    "        elif '-' in e:\n",
    "            processed = {'title': e.split('-')[0],\n",
    "                        'summary': e.split('-')[1][1:]\n",
    "                        }\n",
    "        else:\n",
    "            processed = {'title': '',\n",
    "                        'summary': e\n",
    "                        }\n",
    "    out.append(processed)\n",
    "    return out"
   ]
  },
  {
   "cell_type": "code",
   "execution_count": 8,
   "metadata": {},
   "outputs": [],
   "source": [
    "sentences = create_sentences(segments, MIN_WORDS=50, MAX_WORDS=1000)\n",
    "chunks = create_chunks(sentences, CHUNK_LENGTH=5, STRIDE=1)\n",
    "chunks_text = [chunk['text'] for chunk in chunks]"
   ]
  },
  {
   "cell_type": "code",
   "execution_count": 16,
   "metadata": {},
   "outputs": [
    {
     "data": {
      "text/plain": [
       "86"
      ]
     },
     "execution_count": 16,
     "metadata": {},
     "output_type": "execute_result"
    }
   ],
   "source": [
    "len(chunks_text)"
   ]
  },
  {
   "cell_type": "code",
   "execution_count": 15,
   "metadata": {},
   "outputs": [
    {
     "data": {
      "text/plain": [
       "(array([ 1.,  0.,  0.,  0.,  0.,  0.,  0.,  0.,  0.,  0.,  1.,  4.,  2.,\n",
       "        19., 16., 21., 11.,  4.,  2.,  3.,  2.]),\n",
       " array([ 604.        ,  663.19047619,  722.38095238,  781.57142857,\n",
       "         840.76190476,  899.95238095,  959.14285714, 1018.33333333,\n",
       "        1077.52380952, 1136.71428571, 1195.9047619 , 1255.0952381 ,\n",
       "        1314.28571429, 1373.47619048, 1432.66666667, 1491.85714286,\n",
       "        1551.04761905, 1610.23809524, 1669.42857143, 1728.61904762,\n",
       "        1787.80952381, 1847.        ]),\n",
       " <BarContainer object of 21 artists>)"
      ]
     },
     "execution_count": 15,
     "metadata": {},
     "output_type": "execute_result"
    },
    {
     "data": {
      "image/png": "[encoded data removed]",
      "text/plain": [
       "<Figure size 640x480 with 1 Axes>"
      ]
     },
     "metadata": {},
     "output_type": "display_data"
    }
   ],
   "source": [
    "plt.hist(([len(chunk) for chunk in chunks_text]), bins='auto')"
   ]
  },
  {
   "cell_type": "markdown",
   "metadata": {},
   "source": [
    "### Stage 1: Getting Chunk Summaries"
   ]
  },
  {
   "cell_type": "code",
   "execution_count": 17,
   "metadata": {},
   "outputs": [],
   "source": [
    "def summarize_stage_1(chunks_text):\n",
    "  \n",
    "    print(f'Start time: {datetime.now()}')\n",
    "\n",
    "    # Prompt to get title and summary for each chunk\n",
    "    map_prompt_template = \"\"\"Firstly, give the following text an informative title. Then, on a new line, write a 75-100 word summary of the following text:\n",
    "    {text}\n",
    "\n",
    "    Return your answer in the following format:\n",
    "    Title | Summary...\n",
    "    e.g. \n",
    "    Why Artificial Intelligence is Good | AI can make humans more productive by automating many repetitive processes.\n",
    "\n",
    "    TITLE AND CONCISE SUMMARY:\"\"\"\n",
    "\n",
    "    map_prompt = PromptTemplate(template=map_prompt_template, input_variables=[\"text\"])\n",
    "\n",
    "    # Define the LLMs\n",
    "    map_llm = OpenAI(temperature=0, model_name = 'text-davinci-003')\n",
    "    map_llm_chain = LLMChain(llm = map_llm, prompt = map_prompt)\n",
    "    map_llm_chain_input = [{'text': t} for t in chunks_text]\n",
    "    # Run the input through the LLM chain (works in parallel)\n",
    "    map_llm_chain_results = map_llm_chain.apply(map_llm_chain_input)\n",
    "\n",
    "    stage_1_outputs = parse_title_summary_results([e['text'] for e in map_llm_chain_results])\n",
    "\n",
    "    print(f'Stage 1 done time {datetime.now()}')\n",
    "\n",
    "    return {\n",
    "        'stage_1_outputs': stage_1_outputs\n",
    "        }"
   ]
  },
  {
   "cell_type": "code",
   "execution_count": 18,
   "metadata": {},
   "outputs": [
    {
     "name": "stdout",
     "output_type": "stream",
     "text": [
      "Start time: 2023-08-02 11:04:15.879676\n",
      "Stage 1 done time 2023-08-02 11:04:34.420741\n"
     ]
    }
   ],
   "source": [
    "# Run Stage 1 Summarizing\n",
    "stage_1_outputs = summarize_stage_1(chunks_text)['stage_1_outputs']\n",
    "# Split the titles and summaries\n",
    "stage_1_summaries = [e['summary'] for e in stage_1_outputs]\n",
    "stage_1_titles = [e['title'] for e in stage_1_outputs]\n",
    "num_1_chunks = len(stage_1_summaries)"
   ]
  },
  {
   "cell_type": "code",
   "execution_count": 19,
   "metadata": {},
   "outputs": [],
   "source": [
    "# Use OpenAI to embed the summaries and titles. Size of _embeds: (num_chunks x 1536)\n",
    "openai_embed = OpenAIEmbeddings()\n",
    "\n",
    "summary_embeds = np.array(openai_embed.embed_documents(stage_1_summaries))\n",
    "title_embeds = np.array(openai_embed.embed_documents(stage_1_titles))"
   ]
  },
  {
   "cell_type": "code",
   "execution_count": 20,
   "metadata": {},
   "outputs": [],
   "source": [
    "# Get similarity matrix between the embeddings of the chunk summaries\n",
    "summary_similarity_matrix = np.zeros((num_1_chunks, num_1_chunks))\n",
    "summary_similarity_matrix[:] = np.nan\n",
    "\n",
    "for row in range(num_1_chunks):\n",
    "    for col in range(row, num_1_chunks):\n",
    "        # Calculate cosine similarity between the two vectors\n",
    "        similarity = 1- cosine(summary_embeds[row], summary_embeds[col])\n",
    "        summary_similarity_matrix[row, col] = similarity\n",
    "        summary_similarity_matrix[col, row] = similarity"
   ]
  },
  {
   "cell_type": "code",
   "execution_count": 21,
   "metadata": {},
   "outputs": [
    {
     "data": {
      "text/plain": [
       "<matplotlib.image.AxesImage at 0x29c489110>"
      ]
     },
     "execution_count": 21,
     "metadata": {},
     "output_type": "execute_result"
    },
    {
     "data": {
      "image/png": "[encoded data removed]",
      "text/plain": [
       "<Figure size 640x480 with 1 Axes>"
      ]
     },
     "metadata": {},
     "output_type": "display_data"
    }
   ],
   "source": [
    "# Draw a heatmap with the summary_similarity_matrix\n",
    "plt.figure()\n",
    "# Color scheme blues\n",
    "plt.imshow(summary_similarity_matrix, cmap = 'Blues')"
   ]
  },
  {
   "cell_type": "code",
   "execution_count": 22,
   "metadata": {},
   "outputs": [],
   "source": [
    "# Run the community detection algorithm\n",
    "\n",
    "def get_topics(title_similarity, num_topics = 8, bonus_constant = 0.25, min_size = 3):\n",
    "\n",
    "    proximity_bonus_arr = np.zeros_like(title_similarity)\n",
    "    for row in range(proximity_bonus_arr.shape[0]):\n",
    "        for col in range(proximity_bonus_arr.shape[1]):\n",
    "            if row == col:\n",
    "                proximity_bonus_arr[row, col] = 0\n",
    "            else:\n",
    "                proximity_bonus_arr[row, col] = 1/(abs(row-col)) * bonus_constant\n",
    "        \n",
    "    title_similarity += proximity_bonus_arr\n",
    "\n",
    "    title_nx_graph = nx.from_numpy_array(title_similarity)\n",
    "\n",
    "    desired_num_topics = num_topics\n",
    "    # Store the accepted partitionings\n",
    "    topics_title_accepted = []\n",
    "\n",
    "    resolution = 0.85\n",
    "    resolution_step = 0.01\n",
    "    iterations = 40\n",
    "\n",
    "    # Find the resolution that gives the desired number of topics\n",
    "    topics_title = []\n",
    "    while len(topics_title) not in [desired_num_topics, desired_num_topics + 1, desired_num_topics + 2]:\n",
    "        topics_title = community.louvain_communities(title_nx_graph, weight = 'weight', resolution = resolution)\n",
    "        resolution += resolution_step\n",
    "    topic_sizes = [len(c) for c in topics_title]\n",
    "    sizes_sd = np.std(topic_sizes)\n",
    "    modularity = community.modularity(title_nx_graph, topics_title, weight = 'weight', resolution = resolution)\n",
    "\n",
    "    lowest_sd_iteration = 0\n",
    "   # Set lowest sd to inf\n",
    "    lowest_sd = float('inf')\n",
    "\n",
    "    for i in range(iterations):\n",
    "        topics_title = community.louvain_communities(title_nx_graph, weight = 'weight', resolution = resolution)\n",
    "        modularity = community.modularity(title_nx_graph, topics_title, weight = 'weight', resolution = resolution)\n",
    "    \n",
    "        # Check SD\n",
    "        topic_sizes = [len(c) for c in topics_title]\n",
    "        sizes_sd = np.std(topic_sizes)\n",
    "\n",
    "        topics_title_accepted.append(topics_title)\n",
    "    \n",
    "        if sizes_sd < lowest_sd and min(topic_sizes) >= min_size:\n",
    "            lowest_sd_iteration = i\n",
    "            lowest_sd = sizes_sd\n",
    "      \n",
    "    # Set the chosen partitioning to be the one with highest modularity\n",
    "    topics_title = topics_title_accepted[lowest_sd_iteration]\n",
    "    print(f'Best SD: {lowest_sd}, Best iteration: {lowest_sd_iteration}')\n",
    "  \n",
    "    topic_id_means = [sum(e)/len(e) for e in topics_title]\n",
    "    # Arrange title_topics in order of topic_id_means\n",
    "    topics_title = [list(c) for _, c in sorted(zip(topic_id_means, topics_title), key = lambda pair: pair[0])]\n",
    "    # Create an array denoting which topic each chunk belongs to\n",
    "    chunk_topics = [None] * title_similarity.shape[0]\n",
    "    for i, c in enumerate(topics_title):\n",
    "        for j in c:\n",
    "            chunk_topics[j] = i\n",
    "            \n",
    "    return {\n",
    "        'chunk_topics': chunk_topics,\n",
    "        'topics': topics_title\n",
    "        }"
   ]
  },
  {
   "cell_type": "code",
   "execution_count": 23,
   "metadata": {},
   "outputs": [
    {
     "name": "stdout",
     "output_type": "stream",
     "text": [
      "Best SD: 1.4966629547095764, Best iteration: 11\n"
     ]
    }
   ],
   "source": [
    "# Set num_topics to be 1/4 of the number of chunks, or 8, which ever is smaller\n",
    "num_topics = min(int(num_1_chunks / 4), 8)\n",
    "topics_out = get_topics(summary_similarity_matrix, num_topics = num_topics, bonus_constant = 0.2)\n",
    "chunk_topics = topics_out['chunk_topics']\n",
    "topics = topics_out['topics']"
   ]
  },
  {
   "cell_type": "code",
   "execution_count": 24,
   "metadata": {},
   "outputs": [
    {
     "data": {
      "image/png": "[encoded data removed]",
      "text/plain": [
       "<Figure size 1000x400 with 1 Axes>"
      ]
     },
     "metadata": {},
     "output_type": "display_data"
    }
   ],
   "source": [
    "# Plot a heatmap of this array\n",
    "plt.figure(figsize = (10, 4))\n",
    "plt.imshow(np.array(chunk_topics).reshape(1, -1), cmap = 'tab20')\n",
    "# Draw vertical black lines for every 1 of the x-axis \n",
    "for i in range(1, len(chunk_topics)):\n",
    "    plt.axvline(x = i - 0.5, color = 'black', linewidth = 0.5)"
   ]
  },
  {
   "cell_type": "markdown",
   "metadata": {},
   "source": [
    "### Stage 2 Summaries"
   ]
  },
  {
   "cell_type": "code",
   "execution_count": 25,
   "metadata": {},
   "outputs": [],
   "source": [
    "def summarize_stage_2(stage_1_outputs, topics, summary_num_words = 250):\n",
    "    print(f'Stage 2 start time {datetime.now()}')\n",
    "  \n",
    "    # Prompt that passes in all the titles of a topic, and asks for an overall title of the topic\n",
    "    title_prompt_template = \"\"\"Write an informative title that summarizes each of the following groups of titles. Make sure that the titles capture as much information as possible, \n",
    "    and are different from each other:\n",
    "    {text}\n",
    "  \n",
    "    Return your answer in a numbered list, with new line separating each title: \n",
    "    1. Title 1\n",
    "    2. Title 2\n",
    "    3. Title 3\n",
    "\n",
    "    TITLES:\n",
    "    \"\"\"\n",
    "\n",
    "    map_prompt_template = \"\"\"Wite a 75-100 word summary of the following text:\n",
    "    {text}\n",
    "\n",
    "    CONCISE SUMMARY:\"\"\"\n",
    "\n",
    "    combine_prompt_template = 'Write a ' + str(summary_num_words) + \"\"\"-word summary of the following, removing irrelevant information. Finish your answer:\n",
    "    {text}\n",
    "    \"\"\" + str(summary_num_words) + \"\"\"-WORD SUMMARY:\"\"\"\n",
    "\n",
    "    title_prompt = PromptTemplate(template=title_prompt_template, input_variables=[\"text\"])\n",
    "    map_prompt = PromptTemplate(template=map_prompt_template, input_variables=[\"text\"])\n",
    "    combine_prompt = PromptTemplate(template=combine_prompt_template, input_variables=[\"text\"])\n",
    "\n",
    "    topics_data = []\n",
    "    for c in topics:\n",
    "        topic_data = {\n",
    "          'summaries': [stage_1_outputs[chunk_id]['summary'] for chunk_id in c],\n",
    "          'titles': [stage_1_outputs[chunk_id]['title'] for chunk_id in c]\n",
    "        }\n",
    "        topic_data['summaries_concat'] = ' '.join(topic_data['summaries'])\n",
    "        topic_data['titles_concat'] = ', '.join(topic_data['titles'])\n",
    "        topics_data.append(topic_data)\n",
    "\n",
    "    # Get a list of each community's summaries (concatenated)\n",
    "    topics_summary_concat = [c['summaries_concat'] for c in topics_data]\n",
    "    topics_titles_concat = [c['titles_concat'] for c in topics_data]\n",
    "\n",
    "    # Concat into one long string to do the topic title creation\n",
    "    topics_titles_concat_all = ''''''\n",
    "    for i, c in enumerate(topics_titles_concat):\n",
    "        topics_titles_concat_all += f'''{i+1}. {c}\n",
    "        '''\n",
    "  \n",
    "    # print('topics_titles_concat_all', topics_titles_concat_all)\n",
    "\n",
    "    title_llm = OpenAI(temperature=0, model_name = 'text-davinci-003')\n",
    "    title_llm_chain = LLMChain(llm = title_llm, prompt = title_prompt)\n",
    "    title_llm_chain_input = [{'text': topics_titles_concat_all}]\n",
    "    title_llm_chain_results = title_llm_chain.apply(title_llm_chain_input)\n",
    "\n",
    "\n",
    "    # Split by new line\n",
    "    titles = title_llm_chain_results[0]['text'].split('\\n')\n",
    "    # Remove any empty titles\n",
    "    titles = [t for t in titles if t != '']\n",
    "    # Remove spaces at start or end of each title\n",
    "    titles = [t.strip() for t in titles]\n",
    "\n",
    "    map_llm = OpenAI(temperature=0, model_name = 'text-davinci-003')\n",
    "    reduce_llm = OpenAI(temperature=0, model_name = 'text-davinci-003', max_tokens = -1)\n",
    "\n",
    "    # Run the map-reduce chain\n",
    "    docs = [Document(page_content=t) for t in topics_summary_concat]\n",
    "    chain = load_summarize_chain(chain_type=\"map_reduce\", map_prompt = map_prompt, combine_prompt = combine_prompt, return_intermediate_steps = True,\n",
    "                              llm = map_llm, reduce_llm = reduce_llm)\n",
    "\n",
    "    output = chain({\"input_documents\": docs}, return_only_outputs = True)\n",
    "    summaries = output['intermediate_steps']\n",
    "    stage_2_outputs = [{'title': t, 'summary': s} for t, s in zip(titles, summaries)]\n",
    "    final_summary = output['output_text']\n",
    "\n",
    "    # Return: stage_1_outputs (title and summary), stage_2_outputs (title and summary), final_summary, chunk_allocations\n",
    "    out = {\n",
    "      'stage_2_outputs': stage_2_outputs,\n",
    "      'final_summary': final_summary\n",
    "    }\n",
    "    print(f'Stage 2 done time {datetime.now()}')\n",
    "  \n",
    "    return out"
   ]
  },
  {
   "cell_type": "code",
   "execution_count": 26,
   "metadata": {},
   "outputs": [
    {
     "name": "stdout",
     "output_type": "stream",
     "text": [
      "Stage 2 start time 2023-08-02 11:04:38.557052\n",
      "Stage 2 done time 2023-08-02 11:04:52.925729\n"
     ]
    }
   ],
   "source": [
    "# Query GPT-3 to get a summarized title for each topic_data\n",
    "out = summarize_stage_2(stage_1_outputs, topics, summary_num_words = 250)\n",
    "stage_2_outputs = out['stage_2_outputs']\n",
    "stage_2_titles = [e['title'] for e in stage_2_outputs]\n",
    "stage_2_summaries = [e['summary'] for e in stage_2_outputs]\n",
    "final_summary = out['final_summary']"
   ]
  },
  {
   "cell_type": "code",
   "execution_count": 27,
   "metadata": {},
   "outputs": [
    {
     "data": {
      "text/plain": [
       "[{'title': '1. Exploring the Magic of Harry Potter',\n",
       "  'summary': \" Albus Dumbledore and Minerva McGonagall meet Hagrid, who has brought a young boy. On Dudley's birthday, Harry is pushed aside and made to do all the work. At the zoo, Dudley demands the snake move and Vernon raps the glass. Harry apologizes for Dudley's behavior and helps the snake escape. Vernon scoffs at the idea of magic, but the family is left in awe when they see a letter addressed to Harry. Millions of letters come shooting out of the fireplace, and the family is forced to flee to a rock island. A giant man appears and reveals a birthday surprise for Harry.\"},\n",
       " {'title': \"2. Hagrid's Introduction to the Wizarding World\",\n",
       "  'summary': ' Hagrid visits the Dursleys and reveals to Harry that he is a wizard. He takes Harry to Diagon Alley, where Harry purchases supplies for his wizardry and meets Ollivander, who reveals that the wand chose Harry. Hagrid also reveals to Harry that Voldemort is responsible for the scar on his forehead and is believed to still be alive.'},\n",
       " {'title': '3. Platform 9 ¾: A Magical Journey',\n",
       "  'summary': ' Harry Potter meets Ron Weasley on a train to Hogwarts, where they bond over magical creatures and sweets. They are then guided to the castle by Hagrid and Professor McGonagall, where they are sorted into Gryffindor house. Draco Malfoy introduces himself to Harry and the feast begins.'},\n",
       " {'title': \"4. Neville's Magical Misadventures\",\n",
       "  'summary': \" Harry and Ron arrive at Hogwarts and experience the magical world, meeting Professor McGonagall and Professor Snape. McGonagall teaches them punctuality, while Snape introduces them to potion making. Neville gets a Remembrall and Ron gets a newspaper with news of a break-in at Gringotts Bank. They attend their first flying lesson with Madam Hooch, but Neville crashes into a wall and breaks his wrist. Draco Malfoy snickers and takes Neville's Remembrall, and Harry attempts to follow but is stopped by Hermione. Harry is then taken to Professor Quirrell's classroom, where he meets Oliver Wood. The students explore the castle, and Percy leads them to the dorms. Harry is seen sitting by a window with his owl, Hedwig.\"},\n",
       " {'title': '5. Quidditch and the Discovery of Magic',\n",
       "  'summary': \" Professor Quirrell is interrupted by Professor McGonagall who has found a Seeker for the Gryffindor Quidditch team - Harry Potter. Fred and George Weasley are also on the team. Harry discovers his father was a Quidditch player and, while exploring the forbidden third floor, the group is chased by the caretaker's cat. Three students discover a mysterious trap door guarded by a three-headed dog. Oliver Wood explains the basics of Quidditch to Harry, including the roles of the players, the three kinds of balls, and the Golden Snitch. Professor Flitwick teaches Harry the basics of levitation, and Oliver Wood explains the importance of catching the Golden Snitch in Quidditch.\"},\n",
       " {'title': \"6. Hermione's Magical Misadventures and Snape's Secrets\",\n",
       "  'summary': \" Hermione, Ron, and Harry face a troll in the girl's bathroom during a Halloween feast. Harry and Ron come to Hermione's rescue and she casts a spell to make the troll's club come crashing down. They are awarded points for their bravery and Gryffindor wins the Quidditch match when Harry catches the Snitch in his mouth.\"},\n",
       " {'title': \"7. Hagrid's Secrets and the Mirror of Erised\",\n",
       "  'summary': \"\\nHarry, Ron, and Hermione are warned by Hagrid to stay away from a magical creature guarding a secret between Professor Dumbledore and Nicholas Flamel. On Christmas morning, Ron and Hermione surprise Harry with presents, and he receives a mysterious package from his late father. Harry discovers an invisibility cloak and uses it to explore the Restricted Section of the library, where he narrowly escapes Snape and Filch. He finds refuge in a room with a magical mirror that shows him visions of his deceased parents and a possible future. Harry and Ron explore the mirror's power, and Dumbledore appears to offer insight. They then discover the Philosopher's Stone, a legendary substance with astonishing powers, and rush to Hagrid's hut to discuss their findings.\"},\n",
       " {'title': \"8. Hagrid's Dragon Discovery and the Search for a Unicorn\",\n",
       "  'summary': \" Harry and Draco are walking through the forest with Fang when they come across a cloaked figure drinking the blood of a dead unicorn. Firenze, a silver centaur, saves Harry and warns him to leave. Hagrid reveals Snape is protecting the Philosopher's Stone and they discover a dragon, Norbert. Hagrid, Harry, Ron, and Draco are all punished with detention and are led to Hagrid's hut. They venture into the forest to find an injured unicorn and discover a silver puddle of its blood.\"},\n",
       " {'title': \"9. Harry Potter's Warning and Wizard's Chess\",\n",
       "  'summary': \" Harry, Hermione, and Ron must use their wits and courage to protect the Philosopher's Stone from Voldemort. They encounter a sleeping three-headed dog, Devil's Snare, and a giant chessboard, and must use their knowledge and skills to make it to the other side. Ron is willing to sacrifice himself to save Harry.\"},\n",
       " {'title': \"10. Harry Potter's Triumph and Farewell\",\n",
       "  'summary': \" Harry and his friends Ron and Hermione face off against Voldemort in order to protect the Sorcerer's Stone. Harry is able to use his magical powers to protect himself and the stone, and ultimately vanquish his foe. Dumbledore awards the house cup to Slytherin, but awards additional points to Hermione and Ron for their bravery and intellect. Harry and his friends then take a train home from Hogwarts, and Hagrid gives Harry a special gift to remember his parents by.\"}]"
      ]
     },
     "execution_count": 27,
     "metadata": {},
     "output_type": "execute_result"
    }
   ],
   "source": [
    "stage_2_outputs"
   ]
  },
  {
   "cell_type": "code",
   "execution_count": 28,
   "metadata": {},
   "outputs": [
    {
     "data": {
      "text/plain": [
       "\"\\n\\nAlbus Dumbledore and Minerva McGonagall meet Hagrid, who has brought a young boy, Harry Potter, to the Dursleys. Hagrid reveals to Harry that he is a wizard and takes him to Diagon Alley, where Harry purchases supplies for his wizardry and meets Ollivander, who reveals that the wand chose Harry. Harry meets Ron Weasley on a train to Hogwarts, where they are sorted into Gryffindor house. Harry discovers his father was a Quidditch player and, while exploring the castle, the group is chased by the caretaker's cat. Professor Quirrell is interrupted by Professor McGonagall who has found a Seeker for the Gryffindor Quidditch team - Harry Potter. Harry and Ron explore the forbidden third floor and discover a mysterious trap door guarded by a three-headed dog. Hermione, Ron, and Harry face a troll in the girl's bathroom during a Halloween feast. Harry discovers an invisibility cloak and uses it to explore the Restricted Section of the library. Harry and his friends must use their wits and courage to protect the Philosopher's Stone from Voldemort. Harry and his friends then take a train home from Hogwarts, and Hagrid gives Harry a special gift to remember his parents by.\""
      ]
     },
     "execution_count": 28,
     "metadata": {},
     "output_type": "execute_result"
    }
   ],
   "source": [
    "final_summary"
   ]
  },
  {
   "cell_type": "code",
   "execution_count": null,
   "metadata": {},
   "outputs": [],
   "source": []
  }
 ],
 "metadata": {
  "kernelspec": {
   "display_name": "Python 3 (ipykernel)",
   "language": "python",
   "name": "python3"
  },
  "language_info": {
   "codemirror_mode": {
    "name": "ipython",
    "version": 3
   },
   "file_extension": ".py",
   "mimetype": "text/x-python",
   "name": "python",
   "nbconvert_exporter": "python",
   "pygments_lexer": "ipython3",
   "version": "3.11.3"
  },
  "vscode": {
   "interpreter": {
    "hash": "d228f8d1b134e326a52396b2016d42a4e7c84199cf5eb27412c1836171e03131"
   }
  }
 },
 "nbformat": 4,
 "nbformat_minor": 2
}
